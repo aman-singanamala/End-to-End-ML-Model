{
 "cells": [
  {
   "cell_type": "code",
   "execution_count": 1,
   "metadata": {},
   "outputs": [],
   "source": [
    "import numpy as np\n",
    "import pandas as pd\n",
    "import matplotlib.pyplot as plt\n",
    "import seaborn as sns\n",
    "import opendatasets as od\n",
    "\n",
    "import warnings\n",
    "warnings.filterwarnings(\"ignore\")"
   ]
  },
  {
   "cell_type": "code",
   "execution_count": 2,
   "metadata": {},
   "outputs": [
    {
     "name": "stdout",
     "output_type": "stream",
     "text": [
      "Skipping, found downloaded files in \".\\red-wine-quality-cortez-et-al-2009\" (use force=True to force download)\n"
     ]
    }
   ],
   "source": [
    "dataset_url= 'https://www.kaggle.com/datasets/uciml/red-wine-quality-cortez-et-al-2009'\n",
    "od.download(dataset_url)"
   ]
  },
  {
   "cell_type": "code",
   "execution_count": 3,
   "metadata": {},
   "outputs": [
    {
     "data": {
      "text/html": [
       "<div>\n",
       "<style scoped>\n",
       "    .dataframe tbody tr th:only-of-type {\n",
       "        vertical-align: middle;\n",
       "    }\n",
       "\n",
       "    .dataframe tbody tr th {\n",
       "        vertical-align: top;\n",
       "    }\n",
       "\n",
       "    .dataframe thead th {\n",
       "        text-align: right;\n",
       "    }\n",
       "</style>\n",
       "<table border=\"1\" class=\"dataframe\">\n",
       "  <thead>\n",
       "    <tr style=\"text-align: right;\">\n",
       "      <th></th>\n",
       "      <th>fixed acidity</th>\n",
       "      <th>volatile acidity</th>\n",
       "      <th>citric acid</th>\n",
       "      <th>residual sugar</th>\n",
       "      <th>chlorides</th>\n",
       "      <th>free sulfur dioxide</th>\n",
       "      <th>total sulfur dioxide</th>\n",
       "      <th>density</th>\n",
       "      <th>pH</th>\n",
       "      <th>sulphates</th>\n",
       "      <th>alcohol</th>\n",
       "      <th>quality</th>\n",
       "    </tr>\n",
       "  </thead>\n",
       "  <tbody>\n",
       "    <tr>\n",
       "      <th>0</th>\n",
       "      <td>7.4</td>\n",
       "      <td>0.700</td>\n",
       "      <td>0.00</td>\n",
       "      <td>1.9</td>\n",
       "      <td>0.076</td>\n",
       "      <td>11.0</td>\n",
       "      <td>34.0</td>\n",
       "      <td>0.99780</td>\n",
       "      <td>3.51</td>\n",
       "      <td>0.56</td>\n",
       "      <td>9.4</td>\n",
       "      <td>5</td>\n",
       "    </tr>\n",
       "    <tr>\n",
       "      <th>1</th>\n",
       "      <td>7.8</td>\n",
       "      <td>0.880</td>\n",
       "      <td>0.00</td>\n",
       "      <td>2.6</td>\n",
       "      <td>0.098</td>\n",
       "      <td>25.0</td>\n",
       "      <td>67.0</td>\n",
       "      <td>0.99680</td>\n",
       "      <td>3.20</td>\n",
       "      <td>0.68</td>\n",
       "      <td>9.8</td>\n",
       "      <td>5</td>\n",
       "    </tr>\n",
       "    <tr>\n",
       "      <th>2</th>\n",
       "      <td>7.8</td>\n",
       "      <td>0.760</td>\n",
       "      <td>0.04</td>\n",
       "      <td>2.3</td>\n",
       "      <td>0.092</td>\n",
       "      <td>15.0</td>\n",
       "      <td>54.0</td>\n",
       "      <td>0.99700</td>\n",
       "      <td>3.26</td>\n",
       "      <td>0.65</td>\n",
       "      <td>9.8</td>\n",
       "      <td>5</td>\n",
       "    </tr>\n",
       "    <tr>\n",
       "      <th>3</th>\n",
       "      <td>11.2</td>\n",
       "      <td>0.280</td>\n",
       "      <td>0.56</td>\n",
       "      <td>1.9</td>\n",
       "      <td>0.075</td>\n",
       "      <td>17.0</td>\n",
       "      <td>60.0</td>\n",
       "      <td>0.99800</td>\n",
       "      <td>3.16</td>\n",
       "      <td>0.58</td>\n",
       "      <td>9.8</td>\n",
       "      <td>6</td>\n",
       "    </tr>\n",
       "    <tr>\n",
       "      <th>4</th>\n",
       "      <td>7.4</td>\n",
       "      <td>0.700</td>\n",
       "      <td>0.00</td>\n",
       "      <td>1.9</td>\n",
       "      <td>0.076</td>\n",
       "      <td>11.0</td>\n",
       "      <td>34.0</td>\n",
       "      <td>0.99780</td>\n",
       "      <td>3.51</td>\n",
       "      <td>0.56</td>\n",
       "      <td>9.4</td>\n",
       "      <td>5</td>\n",
       "    </tr>\n",
       "    <tr>\n",
       "      <th>...</th>\n",
       "      <td>...</td>\n",
       "      <td>...</td>\n",
       "      <td>...</td>\n",
       "      <td>...</td>\n",
       "      <td>...</td>\n",
       "      <td>...</td>\n",
       "      <td>...</td>\n",
       "      <td>...</td>\n",
       "      <td>...</td>\n",
       "      <td>...</td>\n",
       "      <td>...</td>\n",
       "      <td>...</td>\n",
       "    </tr>\n",
       "    <tr>\n",
       "      <th>1594</th>\n",
       "      <td>6.2</td>\n",
       "      <td>0.600</td>\n",
       "      <td>0.08</td>\n",
       "      <td>2.0</td>\n",
       "      <td>0.090</td>\n",
       "      <td>32.0</td>\n",
       "      <td>44.0</td>\n",
       "      <td>0.99490</td>\n",
       "      <td>3.45</td>\n",
       "      <td>0.58</td>\n",
       "      <td>10.5</td>\n",
       "      <td>5</td>\n",
       "    </tr>\n",
       "    <tr>\n",
       "      <th>1595</th>\n",
       "      <td>5.9</td>\n",
       "      <td>0.550</td>\n",
       "      <td>0.10</td>\n",
       "      <td>2.2</td>\n",
       "      <td>0.062</td>\n",
       "      <td>39.0</td>\n",
       "      <td>51.0</td>\n",
       "      <td>0.99512</td>\n",
       "      <td>3.52</td>\n",
       "      <td>0.76</td>\n",
       "      <td>11.2</td>\n",
       "      <td>6</td>\n",
       "    </tr>\n",
       "    <tr>\n",
       "      <th>1596</th>\n",
       "      <td>6.3</td>\n",
       "      <td>0.510</td>\n",
       "      <td>0.13</td>\n",
       "      <td>2.3</td>\n",
       "      <td>0.076</td>\n",
       "      <td>29.0</td>\n",
       "      <td>40.0</td>\n",
       "      <td>0.99574</td>\n",
       "      <td>3.42</td>\n",
       "      <td>0.75</td>\n",
       "      <td>11.0</td>\n",
       "      <td>6</td>\n",
       "    </tr>\n",
       "    <tr>\n",
       "      <th>1597</th>\n",
       "      <td>5.9</td>\n",
       "      <td>0.645</td>\n",
       "      <td>0.12</td>\n",
       "      <td>2.0</td>\n",
       "      <td>0.075</td>\n",
       "      <td>32.0</td>\n",
       "      <td>44.0</td>\n",
       "      <td>0.99547</td>\n",
       "      <td>3.57</td>\n",
       "      <td>0.71</td>\n",
       "      <td>10.2</td>\n",
       "      <td>5</td>\n",
       "    </tr>\n",
       "    <tr>\n",
       "      <th>1598</th>\n",
       "      <td>6.0</td>\n",
       "      <td>0.310</td>\n",
       "      <td>0.47</td>\n",
       "      <td>3.6</td>\n",
       "      <td>0.067</td>\n",
       "      <td>18.0</td>\n",
       "      <td>42.0</td>\n",
       "      <td>0.99549</td>\n",
       "      <td>3.39</td>\n",
       "      <td>0.66</td>\n",
       "      <td>11.0</td>\n",
       "      <td>6</td>\n",
       "    </tr>\n",
       "  </tbody>\n",
       "</table>\n",
       "<p>1599 rows × 12 columns</p>\n",
       "</div>"
      ],
      "text/plain": [
       "      fixed acidity  volatile acidity  citric acid  residual sugar  chlorides  \\\n",
       "0               7.4             0.700         0.00             1.9      0.076   \n",
       "1               7.8             0.880         0.00             2.6      0.098   \n",
       "2               7.8             0.760         0.04             2.3      0.092   \n",
       "3              11.2             0.280         0.56             1.9      0.075   \n",
       "4               7.4             0.700         0.00             1.9      0.076   \n",
       "...             ...               ...          ...             ...        ...   \n",
       "1594            6.2             0.600         0.08             2.0      0.090   \n",
       "1595            5.9             0.550         0.10             2.2      0.062   \n",
       "1596            6.3             0.510         0.13             2.3      0.076   \n",
       "1597            5.9             0.645         0.12             2.0      0.075   \n",
       "1598            6.0             0.310         0.47             3.6      0.067   \n",
       "\n",
       "      free sulfur dioxide  total sulfur dioxide  density    pH  sulphates  \\\n",
       "0                    11.0                  34.0  0.99780  3.51       0.56   \n",
       "1                    25.0                  67.0  0.99680  3.20       0.68   \n",
       "2                    15.0                  54.0  0.99700  3.26       0.65   \n",
       "3                    17.0                  60.0  0.99800  3.16       0.58   \n",
       "4                    11.0                  34.0  0.99780  3.51       0.56   \n",
       "...                   ...                   ...      ...   ...        ...   \n",
       "1594                 32.0                  44.0  0.99490  3.45       0.58   \n",
       "1595                 39.0                  51.0  0.99512  3.52       0.76   \n",
       "1596                 29.0                  40.0  0.99574  3.42       0.75   \n",
       "1597                 32.0                  44.0  0.99547  3.57       0.71   \n",
       "1598                 18.0                  42.0  0.99549  3.39       0.66   \n",
       "\n",
       "      alcohol  quality  \n",
       "0         9.4        5  \n",
       "1         9.8        5  \n",
       "2         9.8        5  \n",
       "3         9.8        6  \n",
       "4         9.4        5  \n",
       "...       ...      ...  \n",
       "1594     10.5        5  \n",
       "1595     11.2        6  \n",
       "1596     11.0        6  \n",
       "1597     10.2        5  \n",
       "1598     11.0        6  \n",
       "\n",
       "[1599 rows x 12 columns]"
      ]
     },
     "execution_count": 3,
     "metadata": {},
     "output_type": "execute_result"
    }
   ],
   "source": [
    "wine= pd.read_csv('./red-wine-quality-cortez-et-al-2009/winequality-red.csv')\n",
    "wine"
   ]
  },
  {
   "cell_type": "code",
   "execution_count": 4,
   "metadata": {},
   "outputs": [
    {
     "data": {
      "text/plain": [
       "array([ 7.4   ,  0.7   ,  0.    ,  1.9   ,  0.076 , 11.    , 34.    ,\n",
       "        0.9978,  3.51  ,  0.56  ,  9.4   ,  5.    ])"
      ]
     },
     "execution_count": 4,
     "metadata": {},
     "output_type": "execute_result"
    }
   ],
   "source": [
    "wine.values[0]"
   ]
  },
  {
   "cell_type": "code",
   "execution_count": 5,
   "metadata": {},
   "outputs": [],
   "source": [
    "wine.rename(columns={'fixed acidity':'fixed_acidity', \n",
    "                         'volatile acidity':'volatile_acidity',\n",
    "                         'citric acid':'citric_acid',\n",
    "                         'residual sugar':'residual_sugar',\n",
    "                         'free sulfur dioxide':'free_sulfur_dioxide',\n",
    "                         'total sulfur dioxide':'total_sulfur_dioxide'}, inplace=True)"
   ]
  },
  {
   "cell_type": "code",
   "execution_count": 6,
   "metadata": {},
   "outputs": [
    {
     "data": {
      "text/plain": [
       "Index(['fixed_acidity', 'volatile_acidity', 'citric_acid', 'residual_sugar',\n",
       "       'chlorides', 'free_sulfur_dioxide', 'total_sulfur_dioxide', 'density',\n",
       "       'pH', 'sulphates', 'alcohol', 'quality'],\n",
       "      dtype='object')"
      ]
     },
     "execution_count": 6,
     "metadata": {},
     "output_type": "execute_result"
    }
   ],
   "source": [
    "wine.columns"
   ]
  },
  {
   "cell_type": "code",
   "execution_count": 7,
   "metadata": {},
   "outputs": [
    {
     "data": {
      "image/png": "[encoded data removed]",
      "text/plain": [
       "<Figure size 2000x2000 with 12 Axes>"
      ]
     },
     "metadata": {},
     "output_type": "display_data"
    }
   ],
   "source": [
    "import seaborn as sns\n",
    "import matplotlib.pyplot as plt\n",
    "\n",
    "# create a list of the column names to plot\n",
    "cols_to_plot = ['fixed_acidity', 'volatile_acidity', 'citric_acid', 'residual_sugar', \n",
    "                'chlorides', 'free_sulfur_dioxide', 'total_sulfur_dioxide', 'density', \n",
    "                'pH', 'sulphates', 'alcohol','quality']\n",
    "\n",
    "# create a subplot with a grid of 4 rows and 3 columns\n",
    "fig, axes = plt.subplots(nrows=3, ncols=4, figsize=(20,20))\n",
    "\n",
    "# flatten the axes array to make it easier to plot each bar chart\n",
    "axes = axes.flatten()\n",
    "\n",
    "# loop over the column names and plot a bar chart on each axis\n",
    "for i, col in enumerate(cols_to_plot):\n",
    "    sns.barplot(x='quality', y=col, data=wine, ax=axes[i])\n",
    "    \n",
    "# add a title for the entire subplot\n",
    "fig.suptitle('Relationship between Quality and Wine Attributes')\n",
    "\n",
    "# display the plot\n",
    "plt.show()\n"
   ]
  },
  {
   "cell_type": "code",
   "execution_count": 8,
   "metadata": {},
   "outputs": [
    {
     "data": {
      "application/vnd.plotly.v1+json": {
       "config": {
        "plotlyServerURL": "https://plotly.com"
       },
       "data": [
        {
         "coloraxis": "coloraxis",
         "hovertemplate": "x: %{x}<br>y: %{y}<br>color: %{z}<extra></extra>",
         "name": "0",
         "type": "heatmap",
         "x": [
          "fixed_acidity",
          "volatile_acidity",
          "citric_acid",
          "residual_sugar",
          "chlorides",
          "free_sulfur_dioxide",
          "total_sulfur_dioxide",
          "density",
          "pH",
          "sulphates",
          "alcohol",
          "quality"
         ],
         "xaxis": "x",
         "y": [
          "fixed_acidity",
          "volatile_acidity",
          "citric_acid",
          "residual_sugar",
          "chlorides",
          "free_sulfur_dioxide",
          "total_sulfur_dioxide",
          "density",
          "pH",
          "sulphates",
          "alcohol",
          "quality"
         ],
         "yaxis": "y",
         "z": [
          [
           1,
           -0.2561308947703812,
           0.6717034347641064,
           0.11477672449492153,
           0.09370518632130556,
           -0.15379419286482468,
           -0.11318144304548165,
           0.6680472921189573,
           -0.6829781945685302,
           0.18300566393215362,
           -0.061668270628151035,
           0.12405164911322257
          ],
          [
           -0.2561308947703812,
           1,
           -0.5524956845595799,
           0.0019178819627909175,
           0.06129777247646159,
           -0.01050382700659221,
           0.07647000482092811,
           0.02202623219523293,
           0.23493729440739305,
           -0.26098668528328917,
           -0.20228802715325636,
           -0.390557780264006
          ],
          [
           0.6717034347641064,
           -0.5524956845595799,
           1,
           0.14357716157031455,
           0.2038229138290422,
           -0.06097812919230487,
           0.03553302393116163,
           0.36494717521123443,
           -0.5419041447395107,
           0.3127700438544169,
           0.109903246641567,
           0.22637251431804045
          ],
          [
           0.11477672449492153,
           0.0019178819627909175,
           0.14357716157031455,
           1,
           0.05560953520353229,
           0.18704899510428707,
           0.20302788169710137,
           0.35528337098334967,
           -0.08565242221887187,
           0.005527121339138446,
           0.04207543720973079,
           0.013731637340065779
          ],
          [
           0.09370518632130556,
           0.06129777247646159,
           0.2038229138290422,
           0.05560953520353229,
           1,
           0.005562147004781144,
           0.04740046825907547,
           0.20063232664151961,
           -0.2650261311732267,
           0.37126048128542677,
           -0.22114054478828285,
           -0.12890655993005296
          ],
          [
           -0.15379419286482468,
           -0.01050382700659221,
           -0.06097812919230487,
           0.18704899510428707,
           0.005562147004781144,
           1,
           0.667666450481023,
           -0.021945831163508164,
           0.0703774985049412,
           0.05165757184282859,
           -0.06940835356500007,
           -0.05065605724427594
          ],
          [
           -0.11318144304548165,
           0.07647000482092811,
           0.03553302393116163,
           0.20302788169710137,
           0.04740046825907547,
           0.667666450481023,
           1,
           0.07126947620312808,
           -0.06649455901285463,
           0.04294683623953878,
           -0.20565394374367102,
           -0.1851002889265377
          ],
          [
           0.6680472921189573,
           0.02202623219523293,
           0.36494717521123443,
           0.35528337098334967,
           0.20063232664151961,
           -0.021945831163508164,
           0.07126947620312808,
           1,
           -0.34169933478501163,
           0.1485064117207901,
           -0.4961797702417342,
           -0.17491922778336458
          ],
          [
           -0.6829781945685302,
           0.23493729440739305,
           -0.5419041447395107,
           -0.08565242221887187,
           -0.2650261311732267,
           0.0703774985049412,
           -0.06649455901285463,
           -0.34169933478501163,
           1,
           -0.19664760230436984,
           0.2056325085054961,
           -0.05773139120538257
          ],
          [
           0.18300566393215362,
           -0.26098668528328917,
           0.3127700438544169,
           0.005527121339138446,
           0.37126048128542677,
           0.05165757184282859,
           0.04294683623953878,
           0.1485064117207901,
           -0.19664760230436984,
           1,
           0.0935947504104671,
           0.25139707906925995
          ],
          [
           -0.061668270628151035,
           -0.20228802715325636,
           0.109903246641567,
           0.04207543720973079,
           -0.22114054478828285,
           -0.06940835356500007,
           -0.20565394374367102,
           -0.4961797702417342,
           0.2056325085054961,
           0.0935947504104671,
           1,
           0.47616632400113656
          ],
          [
           0.12405164911322257,
           -0.390557780264006,
           0.22637251431804045,
           0.013731637340065779,
           -0.12890655993005296,
           -0.05065605724427594,
           -0.1851002889265377,
           -0.17491922778336458,
           -0.05773139120538257,
           0.25139707906925995,
           0.47616632400113656,
           1
          ]
         ]
        }
       ],
       "layout": {
        "annotations": [
         {
          "font": {
           "color": "red"
          },
          "text": "1.0",
          "x": 0,
          "y": 0
         },
         {
          "font": {
           "color": "black"
          },
          "text": "-0.2561",
          "x": 1,
          "y": 0
         },
         {
          "font": {
           "color": "red"
          },
          "text": "0.6717",
          "x": 2,
          "y": 0
         },
         {
          "font": {
           "color": "black"
          },
          "text": "0.1148",
          "x": 3,
          "y": 0
         },
         {
          "font": {
           "color": "black"
          },
          "text": "0.0937",
          "x": 4,
          "y": 0
         },
         {
          "font": {
           "color": "black"
          },
          "text": "-0.1538",
          "x": 5,
          "y": 0
         },
         {
          "font": {
           "color": "black"
          },
          "text": "-0.1132",
          "x": 6,
          "y": 0
         },
         {
          "font": {
           "color": "red"
          },
          "text": "0.668",
          "x": 7,
          "y": 0
         },
         {
          "font": {
           "color": "black"
          },
          "text": "-0.683",
          "x": 8,
          "y": 0
         },
         {
          "font": {
           "color": "black"
          },
          "text": "0.183",
          "x": 9,
          "y": 0
         },
         {
          "font": {
           "color": "black"
          },
          "text": "-0.0617",
          "x": 10,
          "y": 0
         },
         {
          "font": {
           "color": "black"
          },
          "text": "0.1241",
          "x": 11,
          "y": 0
         },
         {
          "font": {
           "color": "black"
          },
          "text": "-0.2561",
          "x": 0,
          "y": 1
         },
         {
          "font": {
           "color": "red"
          },
          "text": "1.0",
          "x": 1,
          "y": 1
         },
         {
          "font": {
           "color": "black"
          },
          "text": "-0.5525",
          "x": 2,
          "y": 1
         },
         {
          "font": {
           "color": "black"
          },
          "text": "0.0019",
          "x": 3,
          "y": 1
         },
         {
          "font": {
           "color": "black"
          },
          "text": "0.0613",
          "x": 4,
          "y": 1
         },
         {
          "font": {
           "color": "black"
          },
          "text": "-0.0105",
          "x": 5,
          "y": 1
         },
         {
          "font": {
           "color": "black"
          },
          "text": "0.0765",
          "x": 6,
          "y": 1
         },
         {
          "font": {
           "color": "black"
          },
          "text": "0.022",
          "x": 7,
          "y": 1
         },
         {
          "font": {
           "color": "black"
          },
          "text": "0.2349",
          "x": 8,
          "y": 1
         },
         {
          "font": {
           "color": "black"
          },
          "text": "-0.261",
          "x": 9,
          "y": 1
         },
         {
          "font": {
           "color": "black"
          },
          "text": "-0.2023",
          "x": 10,
          "y": 1
         },
         {
          "font": {
           "color": "black"
          },
          "text": "-0.3906",
          "x": 11,
          "y": 1
         },
         {
          "font": {
           "color": "red"
          },
          "text": "0.6717",
          "x": 0,
          "y": 2
         },
         {
          "font": {
           "color": "black"
          },
          "text": "-0.5525",
          "x": 1,
          "y": 2
         },
         {
          "font": {
           "color": "red"
          },
          "text": "1.0",
          "x": 2,
          "y": 2
         },
         {
          "font": {
           "color": "black"
          },
          "text": "0.1436",
          "x": 3,
          "y": 2
         },
         {
          "font": {
           "color": "black"
          },
          "text": "0.2038",
          "x": 4,
          "y": 2
         },
         {
          "font": {
           "color": "black"
          },
          "text": "-0.061",
          "x": 5,
          "y": 2
         },
         {
          "font": {
           "color": "black"
          },
          "text": "0.0355",
          "x": 6,
          "y": 2
         },
         {
          "font": {
           "color": "black"
          },
          "text": "0.3649",
          "x": 7,
          "y": 2
         },
         {
          "font": {
           "color": "black"
          },
          "text": "-0.5419",
          "x": 8,
          "y": 2
         },
         {
          "font": {
           "color": "black"
          },
          "text": "0.3128",
          "x": 9,
          "y": 2
         },
         {
          "font": {
           "color": "black"
          },
          "text": "0.1099",
          "x": 10,
          "y": 2
         },
         {
          "font": {
           "color": "black"
          },
          "text": "0.2264",
          "x": 11,
          "y": 2
         },
         {
          "font": {
           "color": "black"
          },
          "text": "0.1148",
          "x": 0,
          "y": 3
         },
         {
          "font": {
           "color": "black"
          },
          "text": "0.0019",
          "x": 1,
          "y": 3
         },
         {
          "font": {
           "color": "black"
          },
          "text": "0.1436",
          "x": 2,
          "y": 3
         },
         {
          "font": {
           "color": "red"
          },
          "text": "1.0",
          "x": 3,
          "y": 3
         },
         {
          "font": {
           "color": "black"
          },
          "text": "0.0556",
          "x": 4,
          "y": 3
         },
         {
          "font": {
           "color": "black"
          },
          "text": "0.187",
          "x": 5,
          "y": 3
         },
         {
          "font": {
           "color": "black"
          },
          "text": "0.203",
          "x": 6,
          "y": 3
         },
         {
          "font": {
           "color": "black"
          },
          "text": "0.3553",
          "x": 7,
          "y": 3
         },
         {
          "font": {
           "color": "black"
          },
          "text": "-0.0857",
          "x": 8,
          "y": 3
         },
         {
          "font": {
           "color": "black"
          },
          "text": "0.0055",
          "x": 9,
          "y": 3
         },
         {
          "font": {
           "color": "black"
          },
          "text": "0.0421",
          "x": 10,
          "y": 3
         },
         {
          "font": {
           "color": "black"
          },
          "text": "0.0137",
          "x": 11,
          "y": 3
         },
         {
          "font": {
           "color": "black"
          },
          "text": "0.0937",
          "x": 0,
          "y": 4
         },
         {
          "font": {
           "color": "black"
          },
          "text": "0.0613",
          "x": 1,
          "y": 4
         },
         {
          "font": {
           "color": "black"
          },
          "text": "0.2038",
          "x": 2,
          "y": 4
         },
         {
          "font": {
           "color": "black"
          },
          "text": "0.0556",
          "x": 3,
          "y": 4
         },
         {
          "font": {
           "color": "red"
          },
          "text": "1.0",
          "x": 4,
          "y": 4
         },
         {
          "font": {
           "color": "black"
          },
          "text": "0.0056",
          "x": 5,
          "y": 4
         },
         {
          "font": {
           "color": "black"
          },
          "text": "0.0474",
          "x": 6,
          "y": 4
         },
         {
          "font": {
           "color": "black"
          },
          "text": "0.2006",
          "x": 7,
          "y": 4
         },
         {
          "font": {
           "color": "black"
          },
          "text": "-0.265",
          "x": 8,
          "y": 4
         },
         {
          "font": {
           "color": "black"
          },
          "text": "0.3713",
          "x": 9,
          "y": 4
         },
         {
          "font": {
           "color": "black"
          },
          "text": "-0.2211",
          "x": 10,
          "y": 4
         },
         {
          "font": {
           "color": "black"
          },
          "text": "-0.1289",
          "x": 11,
          "y": 4
         },
         {
          "font": {
           "color": "black"
          },
          "text": "-0.1538",
          "x": 0,
          "y": 5
         },
         {
          "font": {
           "color": "black"
          },
          "text": "-0.0105",
          "x": 1,
          "y": 5
         },
         {
          "font": {
           "color": "black"
          },
          "text": "-0.061",
          "x": 2,
          "y": 5
         },
         {
          "font": {
           "color": "black"
          },
          "text": "0.187",
          "x": 3,
          "y": 5
         },
         {
          "font": {
           "color": "black"
          },
          "text": "0.0056",
          "x": 4,
          "y": 5
         },
         {
          "font": {
           "color": "red"
          },
          "text": "1.0",
          "x": 5,
          "y": 5
         },
         {
          "font": {
           "color": "red"
          },
          "text": "0.6677",
          "x": 6,
          "y": 5
         },
         {
          "font": {
           "color": "black"
          },
          "text": "-0.0219",
          "x": 7,
          "y": 5
         },
         {
          "font": {
           "color": "black"
          },
          "text": "0.0704",
          "x": 8,
          "y": 5
         },
         {
          "font": {
           "color": "black"
          },
          "text": "0.0517",
          "x": 9,
          "y": 5
         },
         {
          "font": {
           "color": "black"
          },
          "text": "-0.0694",
          "x": 10,
          "y": 5
         },
         {
          "font": {
           "color": "black"
          },
          "text": "-0.0507",
          "x": 11,
          "y": 5
         },
         {
          "font": {
           "color": "black"
          },
          "text": "-0.1132",
          "x": 0,
          "y": 6
         },
         {
          "font": {
           "color": "black"
          },
          "text": "0.0765",
          "x": 1,
          "y": 6
         },
         {
          "font": {
           "color": "black"
          },
          "text": "0.0355",
          "x": 2,
          "y": 6
         },
         {
          "font": {
           "color": "black"
          },
          "text": "0.203",
          "x": 3,
          "y": 6
         },
         {
          "font": {
           "color": "black"
          },
          "text": "0.0474",
          "x": 4,
          "y": 6
         },
         {
          "font": {
           "color": "red"
          },
          "text": "0.6677",
          "x": 5,
          "y": 6
         },
         {
          "font": {
           "color": "red"
          },
          "text": "1.0",
          "x": 6,
          "y": 6
         },
         {
          "font": {
           "color": "black"
          },
          "text": "0.0713",
          "x": 7,
          "y": 6
         },
         {
          "font": {
           "color": "black"
          },
          "text": "-0.0665",
          "x": 8,
          "y": 6
         },
         {
          "font": {
           "color": "black"
          },
          "text": "0.0429",
          "x": 9,
          "y": 6
         },
         {
          "font": {
           "color": "black"
          },
          "text": "-0.2057",
          "x": 10,
          "y": 6
         },
         {
          "font": {
           "color": "black"
          },
          "text": "-0.1851",
          "x": 11,
          "y": 6
         },
         {
          "font": {
           "color": "red"
          },
          "text": "0.668",
          "x": 0,
          "y": 7
         },
         {
          "font": {
           "color": "black"
          },
          "text": "0.022",
          "x": 1,
          "y": 7
         },
         {
          "font": {
           "color": "black"
          },
          "text": "0.3649",
          "x": 2,
          "y": 7
         },
         {
          "font": {
           "color": "black"
          },
          "text": "0.3553",
          "x": 3,
          "y": 7
         },
         {
          "font": {
           "color": "black"
          },
          "text": "0.2006",
          "x": 4,
          "y": 7
         },
         {
          "font": {
           "color": "black"
          },
          "text": "-0.0219",
          "x": 5,
          "y": 7
         },
         {
          "font": {
           "color": "black"
          },
          "text": "0.0713",
          "x": 6,
          "y": 7
         },
         {
          "font": {
           "color": "red"
          },
          "text": "1.0",
          "x": 7,
          "y": 7
         },
         {
          "font": {
           "color": "black"
          },
          "text": "-0.3417",
          "x": 8,
          "y": 7
         },
         {
          "font": {
           "color": "black"
          },
          "text": "0.1485",
          "x": 9,
          "y": 7
         },
         {
          "font": {
           "color": "black"
          },
          "text": "-0.4962",
          "x": 10,
          "y": 7
         },
         {
          "font": {
           "color": "black"
          },
          "text": "-0.1749",
          "x": 11,
          "y": 7
         },
         {
          "font": {
           "color": "black"
          },
          "text": "-0.683",
          "x": 0,
          "y": 8
         },
         {
          "font": {
           "color": "black"
          },
          "text": "0.2349",
          "x": 1,
          "y": 8
         },
         {
          "font": {
           "color": "black"
          },
          "text": "-0.5419",
          "x": 2,
          "y": 8
         },
         {
          "font": {
           "color": "black"
          },
          "text": "-0.0857",
          "x": 3,
          "y": 8
         },
         {
          "font": {
           "color": "black"
          },
          "text": "-0.265",
          "x": 4,
          "y": 8
         },
         {
          "font": {
           "color": "black"
          },
          "text": "0.0704",
          "x": 5,
          "y": 8
         },
         {
          "font": {
           "color": "black"
          },
          "text": "-0.0665",
          "x": 6,
          "y": 8
         },
         {
          "font": {
           "color": "black"
          },
          "text": "-0.3417",
          "x": 7,
          "y": 8
         },
         {
          "font": {
           "color": "red"
          },
          "text": "1.0",
          "x": 8,
          "y": 8
         },
         {
          "font": {
           "color": "black"
          },
          "text": "-0.1966",
          "x": 9,
          "y": 8
         },
         {
          "font": {
           "color": "black"
          },
          "text": "0.2056",
          "x": 10,
          "y": 8
         },
         {
          "font": {
           "color": "black"
          },
          "text": "-0.0577",
          "x": 11,
          "y": 8
         },
         {
          "font": {
           "color": "black"
          },
          "text": "0.183",
          "x": 0,
          "y": 9
         },
         {
          "font": {
           "color": "black"
          },
          "text": "-0.261",
          "x": 1,
          "y": 9
         },
         {
          "font": {
           "color": "black"
          },
          "text": "0.3128",
          "x": 2,
          "y": 9
         },
         {
          "font": {
           "color": "black"
          },
          "text": "0.0055",
          "x": 3,
          "y": 9
         },
         {
          "font": {
           "color": "black"
          },
          "text": "0.3713",
          "x": 4,
          "y": 9
         },
         {
          "font": {
           "color": "black"
          },
          "text": "0.0517",
          "x": 5,
          "y": 9
         },
         {
          "font": {
           "color": "black"
          },
          "text": "0.0429",
          "x": 6,
          "y": 9
         },
         {
          "font": {
           "color": "black"
          },
          "text": "0.1485",
          "x": 7,
          "y": 9
         },
         {
          "font": {
           "color": "black"
          },
          "text": "-0.1966",
          "x": 8,
          "y": 9
         },
         {
          "font": {
           "color": "red"
          },
          "text": "1.0",
          "x": 9,
          "y": 9
         },
         {
          "font": {
           "color": "black"
          },
          "text": "0.0936",
          "x": 10,
          "y": 9
         },
         {
          "font": {
           "color": "black"
          },
          "text": "0.2514",
          "x": 11,
          "y": 9
         },
         {
          "font": {
           "color": "black"
          },
          "text": "-0.0617",
          "x": 0,
          "y": 10
         },
         {
          "font": {
           "color": "black"
          },
          "text": "-0.2023",
          "x": 1,
          "y": 10
         },
         {
          "font": {
           "color": "black"
          },
          "text": "0.1099",
          "x": 2,
          "y": 10
         },
         {
          "font": {
           "color": "black"
          },
          "text": "0.0421",
          "x": 3,
          "y": 10
         },
         {
          "font": {
           "color": "black"
          },
          "text": "-0.2211",
          "x": 4,
          "y": 10
         },
         {
          "font": {
           "color": "black"
          },
          "text": "-0.0694",
          "x": 5,
          "y": 10
         },
         {
          "font": {
           "color": "black"
          },
          "text": "-0.2057",
          "x": 6,
          "y": 10
         },
         {
          "font": {
           "color": "black"
          },
          "text": "-0.4962",
          "x": 7,
          "y": 10
         },
         {
          "font": {
           "color": "black"
          },
          "text": "0.2056",
          "x": 8,
          "y": 10
         },
         {
          "font": {
           "color": "black"
          },
          "text": "0.0936",
          "x": 9,
          "y": 10
         },
         {
          "font": {
           "color": "red"
          },
          "text": "1.0",
          "x": 10,
          "y": 10
         },
         {
          "font": {
           "color": "black"
          },
          "text": "0.4762",
          "x": 11,
          "y": 10
         },
         {
          "font": {
           "color": "black"
          },
          "text": "0.1241",
          "x": 0,
          "y": 11
         },
         {
          "font": {
           "color": "black"
          },
          "text": "-0.3906",
          "x": 1,
          "y": 11
         },
         {
          "font": {
           "color": "black"
          },
          "text": "0.2264",
          "x": 2,
          "y": 11
         },
         {
          "font": {
           "color": "black"
          },
          "text": "0.0137",
          "x": 3,
          "y": 11
         },
         {
          "font": {
           "color": "black"
          },
          "text": "-0.1289",
          "x": 4,
          "y": 11
         },
         {
          "font": {
           "color": "black"
          },
          "text": "-0.0507",
          "x": 5,
          "y": 11
         },
         {
          "font": {
           "color": "black"
          },
          "text": "-0.1851",
          "x": 6,
          "y": 11
         },
         {
          "font": {
           "color": "black"
          },
          "text": "-0.1749",
          "x": 7,
          "y": 11
         },
         {
          "font": {
           "color": "black"
          },
          "text": "-0.0577",
          "x": 8,
          "y": 11
         },
         {
          "font": {
           "color": "black"
          },
          "text": "0.2514",
          "x": 9,
          "y": 11
         },
         {
          "font": {
           "color": "black"
          },
          "text": "0.4762",
          "x": 10,
          "y": 11
         },
         {
          "font": {
           "color": "red"
          },
          "text": "1.0",
          "x": 11,
          "y": 11
         }
        ],
        "coloraxis": {
         "colorscale": [
          [
           0,
           "rgb(247,251,255)"
          ],
          [
           0.125,
           "rgb(222,235,247)"
          ],
          [
           0.25,
           "rgb(198,219,239)"
          ],
          [
           0.375,
           "rgb(158,202,225)"
          ],
          [
           0.5,
           "rgb(107,174,214)"
          ],
          [
           0.625,
           "rgb(66,146,198)"
          ],
          [
           0.75,
           "rgb(33,113,181)"
          ],
          [
           0.875,
           "rgb(8,81,156)"
          ],
          [
           1,
           "rgb(8,48,107)"
          ]
         ]
        },
        "height": 1000,
        "margin": {
         "t": 60
        },
        "template": {
         "data": {
          "bar": [
           {
            "error_x": {
             "color": "#2a3f5f"
            },
            "error_y": {
             "color": "#2a3f5f"
            },
            "marker": {
             "line": {
              "color": "#E5ECF6",
              "width": 0.5
             },
             "pattern": {
              "fillmode": "overlay",
              "size": 10,
              "solidity": 0.2
             }
            },
            "type": "bar"
           }
          ],
          "barpolar": [
           {
            "marker": {
             "line": {
              "color": "#E5ECF6",
              "width": 0.5
             },
             "pattern": {
              "fillmode": "overlay",
              "size": 10,
              "solidity": 0.2
             }
            },
            "type": "barpolar"
           }
          ],
          "carpet": [
           {
            "aaxis": {
             "endlinecolor": "#2a3f5f",
             "gridcolor": "white",
             "linecolor": "white",
             "minorgridcolor": "white",
             "startlinecolor": "#2a3f5f"
            },
            "baxis": {
             "endlinecolor": "#2a3f5f",
             "gridcolor": "white",
             "linecolor": "white",
             "minorgridcolor": "white",
             "startlinecolor": "#2a3f5f"
            },
            "type": "carpet"
           }
          ],
          "choropleth": [
           {
            "colorbar": {
             "outlinewidth": 0,
             "ticks": ""
            },
            "type": "choropleth"
           }
          ],
          "contour": [
           {
            "colorbar": {
             "outlinewidth": 0,
             "ticks": ""
            },
            "colorscale": [
             [
              0,
              "#0d0887"
             ],
             [
              0.1111111111111111,
              "#46039f"
             ],
             [
              0.2222222222222222,
              "#7201a8"
             ],
             [
              0.3333333333333333,
              "#9c179e"
             ],
             [
              0.4444444444444444,
              "#bd3786"
             ],
             [
              0.5555555555555556,
              "#d8576b"
             ],
             [
              0.6666666666666666,
              "#ed7953"
             ],
             [
              0.7777777777777778,
              "#fb9f3a"
             ],
             [
              0.8888888888888888,
              "#fdca26"
             ],
             [
              1,
              "#f0f921"
             ]
            ],
            "type": "contour"
           }
          ],
          "contourcarpet": [
           {
            "colorbar": {
             "outlinewidth": 0,
             "ticks": ""
            },
            "type": "contourcarpet"
           }
          ],
          "heatmap": [
           {
            "colorbar": {
             "outlinewidth": 0,
             "ticks": ""
            },
            "colorscale": [
             [
              0,
              "#0d0887"
             ],
             [
              0.1111111111111111,
              "#46039f"
             ],
             [
              0.2222222222222222,
              "#7201a8"
             ],
             [
              0.3333333333333333,
              "#9c179e"
             ],
             [
              0.4444444444444444,
              "#bd3786"
             ],
             [
              0.5555555555555556,
              "#d8576b"
             ],
             [
              0.6666666666666666,
              "#ed7953"
             ],
             [
              0.7777777777777778,
              "#fb9f3a"
             ],
             [
              0.8888888888888888,
              "#fdca26"
             ],
             [
              1,
              "#f0f921"
             ]
            ],
            "type": "heatmap"
           }
          ],
          "heatmapgl": [
           {
            "colorbar": {
             "outlinewidth": 0,
             "ticks": ""
            },
            "colorscale": [
             [
              0,
              "#0d0887"
             ],
             [
              0.1111111111111111,
              "#46039f"
             ],
             [
              0.2222222222222222,
              "#7201a8"
             ],
             [
              0.3333333333333333,
              "#9c179e"
             ],
             [
              0.4444444444444444,
              "#bd3786"
             ],
             [
              0.5555555555555556,
              "#d8576b"
             ],
             [
              0.6666666666666666,
              "#ed7953"
             ],
             [
              0.7777777777777778,
              "#fb9f3a"
             ],
             [
              0.8888888888888888,
              "#fdca26"
             ],
             [
              1,
              "#f0f921"
             ]
            ],
            "type": "heatmapgl"
           }
          ],
          "histogram": [
           {
            "marker": {
             "pattern": {
              "fillmode": "overlay",
              "size": 10,
              "solidity": 0.2
             }
            },
            "type": "histogram"
           }
          ],
          "histogram2d": [
           {
            "colorbar": {
             "outlinewidth": 0,
             "ticks": ""
            },
            "colorscale": [
             [
              0,
              "#0d0887"
             ],
             [
              0.1111111111111111,
              "#46039f"
             ],
             [
              0.2222222222222222,
              "#7201a8"
             ],
             [
              0.3333333333333333,
              "#9c179e"
             ],
             [
              0.4444444444444444,
              "#bd3786"
             ],
             [
              0.5555555555555556,
              "#d8576b"
             ],
             [
              0.6666666666666666,
              "#ed7953"
             ],
             [
              0.7777777777777778,
              "#fb9f3a"
             ],
             [
              0.8888888888888888,
              "#fdca26"
             ],
             [
              1,
              "#f0f921"
             ]
            ],
            "type": "histogram2d"
           }
          ],
          "histogram2dcontour": [
           {
            "colorbar": {
             "outlinewidth": 0,
             "ticks": ""
            },
            "colorscale": [
             [
              0,
              "#0d0887"
             ],
             [
              0.1111111111111111,
              "#46039f"
             ],
             [
              0.2222222222222222,
              "#7201a8"
             ],
             [
              0.3333333333333333,
              "#9c179e"
             ],
             [
              0.4444444444444444,
              "#bd3786"
             ],
             [
              0.5555555555555556,
              "#d8576b"
             ],
             [
              0.6666666666666666,
              "#ed7953"
             ],
             [
              0.7777777777777778,
              "#fb9f3a"
             ],
             [
              0.8888888888888888,
              "#fdca26"
             ],
             [
              1,
              "#f0f921"
             ]
            ],
            "type": "histogram2dcontour"
           }
          ],
          "mesh3d": [
           {
            "colorbar": {
             "outlinewidth": 0,
             "ticks": ""
            },
            "type": "mesh3d"
           }
          ],
          "parcoords": [
           {
            "line": {
             "colorbar": {
              "outlinewidth": 0,
              "ticks": ""
             }
            },
            "type": "parcoords"
           }
          ],
          "pie": [
           {
            "automargin": true,
            "type": "pie"
           }
          ],
          "scatter": [
           {
            "fillpattern": {
             "fillmode": "overlay",
             "size": 10,
             "solidity": 0.2
            },
            "type": "scatter"
           }
          ],
          "scatter3d": [
           {
            "line": {
             "colorbar": {
              "outlinewidth": 0,
              "ticks": ""
             }
            },
            "marker": {
             "colorbar": {
              "outlinewidth": 0,
              "ticks": ""
             }
            },
            "type": "scatter3d"
           }
          ],
          "scattercarpet": [
           {
            "marker": {
             "colorbar": {
              "outlinewidth": 0,
              "ticks": ""
             }
            },
            "type": "scattercarpet"
           }
          ],
          "scattergeo": [
           {
            "marker": {
             "colorbar": {
              "outlinewidth": 0,
              "ticks": ""
             }
            },
            "type": "scattergeo"
           }
          ],
          "scattergl": [
           {
            "marker": {
             "colorbar": {
              "outlinewidth": 0,
              "ticks": ""
             }
            },
            "type": "scattergl"
           }
          ],
          "scattermapbox": [
           {
            "marker": {
             "colorbar": {
              "outlinewidth": 0,
              "ticks": ""
             }
            },
            "type": "scattermapbox"
           }
          ],
          "scatterpolar": [
           {
            "marker": {
             "colorbar": {
              "outlinewidth": 0,
              "ticks": ""
             }
            },
            "type": "scatterpolar"
           }
          ],
          "scatterpolargl": [
           {
            "marker": {
             "colorbar": {
              "outlinewidth": 0,
              "ticks": ""
             }
            },
            "type": "scatterpolargl"
           }
          ],
          "scatterternary": [
           {
            "marker": {
             "colorbar": {
              "outlinewidth": 0,
              "ticks": ""
             }
            },
            "type": "scatterternary"
           }
          ],
          "surface": [
           {
            "colorbar": {
             "outlinewidth": 0,
             "ticks": ""
            },
            "colorscale": [
             [
              0,
              "#0d0887"
             ],
             [
              0.1111111111111111,
              "#46039f"
             ],
             [
              0.2222222222222222,
              "#7201a8"
             ],
             [
              0.3333333333333333,
              "#9c179e"
             ],
             [
              0.4444444444444444,
              "#bd3786"
             ],
             [
              0.5555555555555556,
              "#d8576b"
             ],
             [
              0.6666666666666666,
              "#ed7953"
             ],
             [
              0.7777777777777778,
              "#fb9f3a"
             ],
             [
              0.8888888888888888,
              "#fdca26"
             ],
             [
              1,
              "#f0f921"
             ]
            ],
            "type": "surface"
           }
          ],
          "table": [
           {
            "cells": {
             "fill": {
              "color": "#EBF0F8"
             },
             "line": {
              "color": "white"
             }
            },
            "header": {
             "fill": {
              "color": "#C8D4E3"
             },
             "line": {
              "color": "white"
             }
            },
            "type": "table"
           }
          ]
         },
         "layout": {
          "annotationdefaults": {
           "arrowcolor": "#2a3f5f",
           "arrowhead": 0,
           "arrowwidth": 1
          },
          "autotypenumbers": "strict",
          "coloraxis": {
           "colorbar": {
            "outlinewidth": 0,
            "ticks": ""
           }
          },
          "colorscale": {
           "diverging": [
            [
             0,
             "#8e0152"
            ],
            [
             0.1,
             "#c51b7d"
            ],
            [
             0.2,
             "#de77ae"
            ],
            [
             0.3,
             "#f1b6da"
            ],
            [
             0.4,
             "#fde0ef"
            ],
            [
             0.5,
             "#f7f7f7"
            ],
            [
             0.6,
             "#e6f5d0"
            ],
            [
             0.7,
             "#b8e186"
            ],
            [
             0.8,
             "#7fbc41"
            ],
            [
             0.9,
             "#4d9221"
            ],
            [
             1,
             "#276419"
            ]
           ],
           "sequential": [
            [
             0,
             "#0d0887"
            ],
            [
             0.1111111111111111,
             "#46039f"
            ],
            [
             0.2222222222222222,
             "#7201a8"
            ],
            [
             0.3333333333333333,
             "#9c179e"
            ],
            [
             0.4444444444444444,
             "#bd3786"
            ],
            [
             0.5555555555555556,
             "#d8576b"
            ],
            [
             0.6666666666666666,
             "#ed7953"
            ],
            [
             0.7777777777777778,
             "#fb9f3a"
            ],
            [
             0.8888888888888888,
             "#fdca26"
            ],
            [
             1,
             "#f0f921"
            ]
           ],
           "sequentialminus": [
            [
             0,
             "#0d0887"
            ],
            [
             0.1111111111111111,
             "#46039f"
            ],
            [
             0.2222222222222222,
             "#7201a8"
            ],
            [
             0.3333333333333333,
             "#9c179e"
            ],
            [
             0.4444444444444444,
             "#bd3786"
            ],
            [
             0.5555555555555556,
             "#d8576b"
            ],
            [
             0.6666666666666666,
             "#ed7953"
            ],
            [
             0.7777777777777778,
             "#fb9f3a"
            ],
            [
             0.8888888888888888,
             "#fdca26"
            ],
            [
             1,
             "#f0f921"
            ]
           ]
          },
          "colorway": [
           "#636efa",
           "#EF553B",
           "#00cc96",
           "#ab63fa",
           "#FFA15A",
           "#19d3f3",
           "#FF6692",
           "#B6E880",
           "#FF97FF",
           "#FECB52"
          ],
          "font": {
           "color": "#2a3f5f"
          },
          "geo": {
           "bgcolor": "white",
           "lakecolor": "white",
           "landcolor": "#E5ECF6",
           "showlakes": true,
           "showland": true,
           "subunitcolor": "white"
          },
          "hoverlabel": {
           "align": "left"
          },
          "hovermode": "closest",
          "mapbox": {
           "style": "light"
          },
          "paper_bgcolor": "white",
          "plot_bgcolor": "#E5ECF6",
          "polar": {
           "angularaxis": {
            "gridcolor": "white",
            "linecolor": "white",
            "ticks": ""
           },
           "bgcolor": "#E5ECF6",
           "radialaxis": {
            "gridcolor": "white",
            "linecolor": "white",
            "ticks": ""
           }
          },
          "scene": {
           "xaxis": {
            "backgroundcolor": "#E5ECF6",
            "gridcolor": "white",
            "gridwidth": 2,
            "linecolor": "white",
            "showbackground": true,
            "ticks": "",
            "zerolinecolor": "white"
           },
           "yaxis": {
            "backgroundcolor": "#E5ECF6",
            "gridcolor": "white",
            "gridwidth": 2,
            "linecolor": "white",
            "showbackground": true,
            "ticks": "",
            "zerolinecolor": "white"
           },
           "zaxis": {
            "backgroundcolor": "#E5ECF6",
            "gridcolor": "white",
            "gridwidth": 2,
            "linecolor": "white",
            "showbackground": true,
            "ticks": "",
            "zerolinecolor": "white"
           }
          },
          "shapedefaults": {
           "line": {
            "color": "#2a3f5f"
           }
          },
          "ternary": {
           "aaxis": {
            "gridcolor": "white",
            "linecolor": "white",
            "ticks": ""
           },
           "baxis": {
            "gridcolor": "white",
            "linecolor": "white",
            "ticks": ""
           },
           "bgcolor": "#E5ECF6",
           "caxis": {
            "gridcolor": "white",
            "linecolor": "white",
            "ticks": ""
           }
          },
          "title": {
           "x": 0.05
          },
          "xaxis": {
           "automargin": true,
           "gridcolor": "white",
           "linecolor": "white",
           "ticks": "",
           "title": {
            "standoff": 15
           },
           "zerolinecolor": "white",
           "zerolinewidth": 2
          },
          "yaxis": {
           "automargin": true,
           "gridcolor": "white",
           "linecolor": "white",
           "ticks": "",
           "title": {
            "standoff": 15
           },
           "zerolinecolor": "white",
           "zerolinewidth": 2
          }
         }
        },
        "width": 1000,
        "xaxis": {
         "anchor": "y",
         "constrain": "domain",
         "domain": [
          0,
          1
         ],
         "scaleanchor": "y"
        },
        "yaxis": {
         "anchor": "x",
         "autorange": "reversed",
         "constrain": "domain",
         "domain": [
          0,
          1
         ]
        }
       }
      }
     },
     "metadata": {},
     "output_type": "display_data"
    }
   ],
   "source": [
    "import plotly.express as px\n",
    "import pandas as pd\n",
    "import numpy as np\n",
    "\n",
    "# Calculate the correlation matrix\n",
    "corr = wine.corr()\n",
    "\n",
    "# Create the heatmap\n",
    "fig4 = px.imshow(corr, color_continuous_scale='Blues')\n",
    "\n",
    "# Add text annotations for each cell in the matrix\n",
    "for i in range(corr.shape[0]):\n",
    "    for j in range(corr.shape[1]):\n",
    "        val = np.round(corr.iloc[i, j], 4)\n",
    "        if val > 0.6:\n",
    "            color = 'red'\n",
    "        else:\n",
    "            color = 'black'\n",
    "        fig4.add_annotation(x=j, y=i, text=val, font=dict(color=color))\n",
    "\n",
    "\n",
    "# Update the layout to increase the size of the plot\n",
    "fig4.update_layout(width=1000, height=1000)\n",
    "\n",
    "# Show the heatmap\n",
    "fig4.show()\n",
    "\n"
   ]
  },
  {
   "cell_type": "code",
   "execution_count": 9,
   "metadata": {},
   "outputs": [
    {
     "data": {
      "text/plain": [
       "count    1599.000000\n",
       "mean        5.636023\n",
       "std         0.807569\n",
       "min         3.000000\n",
       "25%         5.000000\n",
       "50%         6.000000\n",
       "75%         6.000000\n",
       "max         8.000000\n",
       "Name: quality, dtype: float64"
      ]
     },
     "execution_count": 9,
     "metadata": {},
     "output_type": "execute_result"
    }
   ],
   "source": [
    "wine['quality'].describe()"
   ]
  },
  {
   "attachments": {},
   "cell_type": "markdown",
   "metadata": {},
   "source": [
    "## we can consider that if quality is greater then or equal to\n"
   ]
  },
  {
   "cell_type": "code",
   "execution_count": 10,
   "metadata": {},
   "outputs": [],
   "source": [
    "def replacenum(num):\n",
    "    if(num<7):\n",
    "        return 0\n",
    "    else:\n",
    "        return 1"
   ]
  },
  {
   "cell_type": "code",
   "execution_count": 11,
   "metadata": {},
   "outputs": [],
   "source": [
    "wine['quality'] = wine['quality'].apply(lambda x: replacenum(x))\n"
   ]
  },
  {
   "cell_type": "code",
   "execution_count": 12,
   "metadata": {},
   "outputs": [
    {
     "data": {
      "text/plain": [
       "0    1382\n",
       "1     217\n",
       "Name: quality, dtype: int64"
      ]
     },
     "execution_count": 12,
     "metadata": {},
     "output_type": "execute_result"
    }
   ],
   "source": [
    "wine.quality.value_counts(\n",
    "    \n",
    ")"
   ]
  },
  {
   "cell_type": "code",
   "execution_count": 13,
   "metadata": {},
   "outputs": [],
   "source": [
    "from sklearn.pipeline import Pipeline\n",
    "from sklearn.base import BaseEstimator, TransformerMixin\n",
    "from sklearn.preprocessing import StandardScaler, LabelEncoder\n",
    "from sklearn.model_selection import train_test_split\n",
    "from sklearn.ensemble import RandomForestClassifier\n",
    "from sklearn.svm import SVC\n",
    "from sklearn.linear_model import SGDClassifier\n",
    "\n",
    "from sklearn.model_selection import GridSearchCV, cross_val_predict\n"
   ]
  },
  {
   "cell_type": "code",
   "execution_count": 14,
   "metadata": {},
   "outputs": [],
   "source": [
    "data= pd.read_csv(\"./red-wine-quality-cortez-et-al-2009/winequality-red.csv\")"
   ]
  },
  {
   "cell_type": "code",
   "execution_count": 15,
   "metadata": {},
   "outputs": [],
   "source": [
    "data['quality']= data['quality'].apply(lambda x: replacenum(x))\n"
   ]
  },
  {
   "cell_type": "code",
   "execution_count": 17,
   "metadata": {},
   "outputs": [],
   "source": [
    "X= data.iloc[:, :11]\n",
    "y= data.iloc[:,11]"
   ]
  },
  {
   "cell_type": "code",
   "execution_count": 18,
   "metadata": {},
   "outputs": [],
   "source": [
    "X_train, X_test, y_train, y_test = train_test_split(X, y, test_size=0.2, random_state=42)"
   ]
  },
  {
   "cell_type": "code",
   "execution_count": 19,
   "metadata": {},
   "outputs": [],
   "source": [
    "class CustomTransformer(BaseEstimator, TransformerMixin):\n",
    "    def __init__(self, custom_param):\n",
    "        self.custom_param = custom_param\n",
    "    def fit(self, X, y=None):\n",
    "        return self\n",
    "    def transform(self, X, y=None):\n",
    "        X= X.dropna()\n",
    "\n",
    "\n",
    "        return X+ self.custom_param"
   ]
  },
  {
   "cell_type": "code",
   "execution_count": 78,
   "metadata": {},
   "outputs": [
    {
     "name": "stdout",
     "output_type": "stream",
     "text": [
      "Best score: 0.907748161764706\n",
      "Best params: {'C': 2.9000000000000004, 'gamma': 0.4, 'kernel': 'rbf'}\n"
     ]
    }
   ],
   "source": [
    "\n",
    "\n",
    "# define the pipeline\n",
    "# pipe using SVC()\n",
    "pipe1 = Pipeline([\n",
    "    (\"custom_transform\",CustomTransformer(5)),\n",
    "    (\"scaler\", StandardScaler()),\n",
    "    (\"clf\", GridSearchCV(\n",
    "        estimator=SVC(),\n",
    "        param_grid={\n",
    "            'C':np.arange(0.1,5.1,0.1),\n",
    "            'kernel':['rbf','linear'],\n",
    "            'gamma':np.arange(0.1,5.1,0.1)\n",
    "        },\n",
    "        cv=5,\n",
    "        return_train_score=False\n",
    "    ))\n",
    "])\n",
    "\n",
    "# fit the pipeline\n",
    "pipe1.fit(X_train, y_train)\n",
    "\n",
    "# print the best score and parameters\n",
    "print(f\"Best score: {pipe1['clf'].best_score_}\")\n",
    "print(f\"Best params: {pipe1['clf'].best_params_}\")\n"
   ]
  },
  {
   "cell_type": "code",
   "execution_count": 81,
   "metadata": {},
   "outputs": [
    {
     "name": "stdout",
     "output_type": "stream",
     "text": [
      "Best score: 0.9116574754901962\n",
      "Best params: {'max_depth': 21, 'n_estimators': 70}\n"
     ]
    }
   ],
   "source": [
    "# define the pipeline\n",
    "# pipe using RFC\n",
    "pipe2 = Pipeline([\n",
    "    (\"custom_transform\",CustomTransformer(5)),\n",
    "    (\"scaler\", StandardScaler()),\n",
    "    (\"clf\", GridSearchCV(\n",
    "        estimator=RandomForestClassifier(),\n",
    "        param_grid={\n",
    "            'n_estimators':np.arange(10,251,10),\n",
    "            'max_depth':np.arange(5,51,1)\n",
    "        },\n",
    "        cv=5,\n",
    "        return_train_score=False\n",
    "    ))\n",
    "])\n",
    "\n",
    "\n",
    "\n",
    "# fit the pipeline\n",
    "pipe2.fit(X_train, y_train)\n",
    "\n",
    "# print the best score and parameters\n",
    "print(f\"Best score: {pipe2['clf'].best_score_}\")\n",
    "print(f\"Best params: {pipe2['clf'].best_params_}\")\n"
   ]
  },
  {
   "cell_type": "code",
   "execution_count": null,
   "metadata": {},
   "outputs": [],
   "source": [
    "# define the pipeline\n",
    "# pipe using XGboost\n",
    "from xgboost import XGBClassifier\n",
    "pipe3 = Pipeline([\n",
    "    (\"custom_transform\",CustomTransformer(5)),\n",
    "    (\"scaler\", StandardScaler()),\n",
    "    (\"clf\", GridSearchCV(\n",
    "        estimator=XGBClassifier(),\n",
    "        param_grid={\n",
    "            'n_estimators':np.arange(10,251,10),\n",
    "            'max_depth':np.arange(5,51,5)\n",
    "        },\n",
    "        cv=5,\n",
    "        return_train_score=False\n",
    "    ))\n",
    "])\n",
    "\n",
    "# fit the pipeline\n",
    "pipe3.fit(X_train, y_train)\n",
    "\n",
    "# print the best score and parameters\n",
    "print(f\"Best score: {pipe3['clf'].best_score_}\")\n",
    "print(f\"Best params: {pipe3['clf'].best_params_}\")\n"
   ]
  },
  {
   "cell_type": "code",
   "execution_count": 20,
   "metadata": {},
   "outputs": [],
   "source": [
    "## Standardize the dataset\n",
    "from sklearn.preprocessing import StandardScaler\n",
    "scaler=StandardScaler()\n",
    "X_train=scaler.fit_transform(X_train)\n",
    "X_test=scaler.transform(X_test)\n"
   ]
  },
  {
   "cell_type": "code",
   "execution_count": 21,
   "metadata": {},
   "outputs": [
    {
     "data": {
      "text/html": [
       "<style>#sk-container-id-1 {color: black;background-color: white;}#sk-container-id-1 pre{padding: 0;}#sk-container-id-1 div.sk-toggleable {background-color: white;}#sk-container-id-1 label.sk-toggleable__label {cursor: pointer;display: block;width: 100%;margin-bottom: 0;padding: 0.3em;box-sizing: border-box;text-align: center;}#sk-container-id-1 label.sk-toggleable__label-arrow:before {content: \"▸\";float: left;margin-right: 0.25em;color: #696969;}#sk-container-id-1 label.sk-toggleable__label-arrow:hover:before {color: black;}#sk-container-id-1 div.sk-estimator:hover label.sk-toggleable__label-arrow:before {color: black;}#sk-container-id-1 div.sk-toggleable__content {max-height: 0;max-width: 0;overflow: hidden;text-align: left;background-color: #f0f8ff;}#sk-container-id-1 div.sk-toggleable__content pre {margin: 0.2em;color: black;border-radius: 0.25em;background-color: #f0f8ff;}#sk-container-id-1 input.sk-toggleable__control:checked~div.sk-toggleable__content {max-height: 200px;max-width: 100%;overflow: auto;}#sk-container-id-1 input.sk-toggleable__control:checked~label.sk-toggleable__label-arrow:before {content: \"▾\";}#sk-container-id-1 div.sk-estimator input.sk-toggleable__control:checked~label.sk-toggleable__label {background-color: #d4ebff;}#sk-container-id-1 div.sk-label input.sk-toggleable__control:checked~label.sk-toggleable__label {background-color: #d4ebff;}#sk-container-id-1 input.sk-hidden--visually {border: 0;clip: rect(1px 1px 1px 1px);clip: rect(1px, 1px, 1px, 1px);height: 1px;margin: -1px;overflow: hidden;padding: 0;position: absolute;width: 1px;}#sk-container-id-1 div.sk-estimator {font-family: monospace;background-color: #f0f8ff;border: 1px dotted black;border-radius: 0.25em;box-sizing: border-box;margin-bottom: 0.5em;}#sk-container-id-1 div.sk-estimator:hover {background-color: #d4ebff;}#sk-container-id-1 div.sk-parallel-item::after {content: \"\";width: 100%;border-bottom: 1px solid gray;flex-grow: 1;}#sk-container-id-1 div.sk-label:hover label.sk-toggleable__label {background-color: #d4ebff;}#sk-container-id-1 div.sk-serial::before {content: \"\";position: absolute;border-left: 1px solid gray;box-sizing: border-box;top: 0;bottom: 0;left: 50%;z-index: 0;}#sk-container-id-1 div.sk-serial {display: flex;flex-direction: column;align-items: center;background-color: white;padding-right: 0.2em;padding-left: 0.2em;position: relative;}#sk-container-id-1 div.sk-item {position: relative;z-index: 1;}#sk-container-id-1 div.sk-parallel {display: flex;align-items: stretch;justify-content: center;background-color: white;position: relative;}#sk-container-id-1 div.sk-item::before, #sk-container-id-1 div.sk-parallel-item::before {content: \"\";position: absolute;border-left: 1px solid gray;box-sizing: border-box;top: 0;bottom: 0;left: 50%;z-index: -1;}#sk-container-id-1 div.sk-parallel-item {display: flex;flex-direction: column;z-index: 1;position: relative;background-color: white;}#sk-container-id-1 div.sk-parallel-item:first-child::after {align-self: flex-end;width: 50%;}#sk-container-id-1 div.sk-parallel-item:last-child::after {align-self: flex-start;width: 50%;}#sk-container-id-1 div.sk-parallel-item:only-child::after {width: 0;}#sk-container-id-1 div.sk-dashed-wrapped {border: 1px dashed gray;margin: 0 0.4em 0.5em 0.4em;box-sizing: border-box;padding-bottom: 0.4em;background-color: white;}#sk-container-id-1 div.sk-label label {font-family: monospace;font-weight: bold;display: inline-block;line-height: 1.2em;}#sk-container-id-1 div.sk-label-container {text-align: center;}#sk-container-id-1 div.sk-container {/* jupyter's `normalize.less` sets `[hidden] { display: none; }` but bootstrap.min.css set `[hidden] { display: none !important; }` so we also need the `!important` here to be able to override the default hidden behavior on the sphinx rendered scikit-learn.org. See: https://github.com/scikit-learn/scikit-learn/issues/21755 */display: inline-block !important;position: relative;}#sk-container-id-1 div.sk-text-repr-fallback {display: none;}</style><div id=\"sk-container-id-1\" class=\"sk-top-container\"><div class=\"sk-text-repr-fallback\"><pre>RandomForestClassifier(max_depth=21, n_estimators=71)</pre><b>In a Jupyter environment, please rerun this cell to show the HTML representation or trust the notebook. <br />On GitHub, the HTML representation is unable to render, please try loading this page with nbviewer.org.</b></div><div class=\"sk-container\" hidden><div class=\"sk-item\"><div class=\"sk-estimator sk-toggleable\"><input class=\"sk-toggleable__control sk-hidden--visually\" id=\"sk-estimator-id-1\" type=\"checkbox\" checked><label for=\"sk-estimator-id-1\" class=\"sk-toggleable__label sk-toggleable__label-arrow\">RandomForestClassifier</label><div class=\"sk-toggleable__content\"><pre>RandomForestClassifier(max_depth=21, n_estimators=71)</pre></div></div></div></div></div>"
      ],
      "text/plain": [
       "RandomForestClassifier(max_depth=21, n_estimators=71)"
      ]
     },
     "execution_count": 21,
     "metadata": {},
     "output_type": "execute_result"
    }
   ],
   "source": [
    "rfc_model =RandomForestClassifier(n_estimators=71,max_depth= 21)\n",
    "rfc_model.fit(X_train, y_train)"
   ]
  },
  {
   "cell_type": "code",
   "execution_count": 28,
   "metadata": {},
   "outputs": [],
   "source": [
    "from sklearn.ensemble import RandomForestClassifier\n",
    "from sklearn.model_selection import cross_val_score\n",
    "import pickle\n",
    "rfc_model = RandomForestClassifier(n_estimators=71, max_depth=21)\n",
    "\n",
    "rfc_model.fit(X_train, y_train)\n",
    "\n",
    "with open('rfc_model.pkl', 'wb') as file:\n",
    "    pickle.dump(rfc_model, file)"
   ]
  },
  {
   "cell_type": "code",
   "execution_count": 29,
   "metadata": {},
   "outputs": [
    {
     "data": {
      "text/plain": [
       "array([0, 0, 0, 0, 0, 0, 0, 0, 0, 0, 1, 0, 0, 0, 0, 1, 0, 0, 1, 0, 0, 0,\n",
       "       0, 0, 0, 0, 0, 0, 0, 0, 0, 0, 0, 0, 0, 0, 0, 0, 0, 0, 0, 0, 0, 0,\n",
       "       0, 0, 1, 0, 0, 0, 0, 0, 0, 1, 0, 0, 0, 0, 0, 0, 0, 0, 0, 0, 1, 0,\n",
       "       1, 0, 1, 0, 0, 0, 0, 0, 0, 0, 1, 0, 0, 1, 0, 1, 0, 0, 0, 0, 0, 0,\n",
       "       1, 0, 0, 0, 0, 0, 0, 0, 0, 0, 0, 0, 0, 0, 0, 1, 0, 1, 0, 0, 0, 0,\n",
       "       1, 0, 1, 0, 0, 0, 0, 0, 0, 0, 0, 0, 0, 0, 0, 0, 0, 0, 0, 0, 0, 0,\n",
       "       0, 0, 0, 0, 0, 0, 0, 0, 1, 0, 1, 0, 0, 0, 0, 0, 0, 0, 0, 0, 0, 0,\n",
       "       0, 0, 0, 0, 0, 0, 0, 0, 0, 0, 0, 0, 0, 0, 0, 0, 0, 0, 1, 0, 1, 0,\n",
       "       0, 0, 0, 0, 0, 0, 0, 0, 0, 0, 0, 0, 1, 0, 0, 0, 0, 0, 0, 0, 0, 0,\n",
       "       0, 1, 0, 0, 0, 0, 1, 0, 0, 0, 0, 0, 1, 0, 0, 0, 0, 0, 0, 0, 0, 0,\n",
       "       0, 0, 0, 0, 0, 0, 0, 1, 0, 0, 0, 0, 1, 0, 0, 1, 0, 0, 0, 0, 0, 0,\n",
       "       0, 1, 0, 1, 0, 0, 0, 0, 0, 0, 0, 0, 0, 0, 0, 0, 0, 0, 1, 0, 0, 0,\n",
       "       0, 0, 0, 0, 0, 0, 0, 0, 0, 0, 0, 0, 0, 1, 0, 0, 1, 0, 0, 0, 0, 1,\n",
       "       0, 0, 0, 0, 0, 1, 1, 0, 0, 0, 0, 0, 0, 0, 0, 0, 0, 0, 0, 0, 0, 0,\n",
       "       0, 1, 0, 0, 0, 0, 0, 0, 0, 0, 0, 0], dtype=int64)"
      ]
     },
     "execution_count": 29,
     "metadata": {},
     "output_type": "execute_result"
    }
   ],
   "source": [
    "import pickle\n",
    "saved_model= pickle.dumps(rfc_model)\n",
    "rfc_from_pickle = pickle.loads(saved_model)\n",
    "rfc_from_pickle.predict(X_test)"
   ]
  },
  {
   "cell_type": "code",
   "execution_count": 30,
   "metadata": {},
   "outputs": [
    {
     "data": {
      "text/plain": [
       "array([0], dtype=int64)"
      ]
     },
     "execution_count": 30,
     "metadata": {},
     "output_type": "execute_result"
    }
   ],
   "source": [
    "rfc_model.predict(\n",
    "    [[7.4,\t0.700, 0.00,\t1.9,\t0.076, 11.0, 34.0, 0.99780, 3.51,\t0.56,\t9.4]])\n"
   ]
  },
  {
   "cell_type": "code",
   "execution_count": 31,
   "metadata": {},
   "outputs": [
    {
     "data": {
      "text/html": [
       "<div>\n",
       "<style scoped>\n",
       "    .dataframe tbody tr th:only-of-type {\n",
       "        vertical-align: middle;\n",
       "    }\n",
       "\n",
       "    .dataframe tbody tr th {\n",
       "        vertical-align: top;\n",
       "    }\n",
       "\n",
       "    .dataframe thead th {\n",
       "        text-align: right;\n",
       "    }\n",
       "</style>\n",
       "<table border=\"1\" class=\"dataframe\">\n",
       "  <thead>\n",
       "    <tr style=\"text-align: right;\">\n",
       "      <th></th>\n",
       "      <th>fixed acidity</th>\n",
       "      <th>volatile acidity</th>\n",
       "      <th>citric acid</th>\n",
       "      <th>residual sugar</th>\n",
       "      <th>chlorides</th>\n",
       "      <th>free sulfur dioxide</th>\n",
       "      <th>total sulfur dioxide</th>\n",
       "      <th>density</th>\n",
       "      <th>pH</th>\n",
       "      <th>sulphates</th>\n",
       "      <th>alcohol</th>\n",
       "      <th>quality</th>\n",
       "    </tr>\n",
       "  </thead>\n",
       "  <tbody>\n",
       "    <tr>\n",
       "      <th>7</th>\n",
       "      <td>7.3</td>\n",
       "      <td>0.65</td>\n",
       "      <td>0.00</td>\n",
       "      <td>1.2</td>\n",
       "      <td>0.065</td>\n",
       "      <td>15.0</td>\n",
       "      <td>21.0</td>\n",
       "      <td>0.99460</td>\n",
       "      <td>3.39</td>\n",
       "      <td>0.47</td>\n",
       "      <td>10.00</td>\n",
       "      <td>1</td>\n",
       "    </tr>\n",
       "    <tr>\n",
       "      <th>8</th>\n",
       "      <td>7.8</td>\n",
       "      <td>0.58</td>\n",
       "      <td>0.02</td>\n",
       "      <td>2.0</td>\n",
       "      <td>0.073</td>\n",
       "      <td>9.0</td>\n",
       "      <td>18.0</td>\n",
       "      <td>0.99680</td>\n",
       "      <td>3.36</td>\n",
       "      <td>0.57</td>\n",
       "      <td>9.50</td>\n",
       "      <td>1</td>\n",
       "    </tr>\n",
       "    <tr>\n",
       "      <th>16</th>\n",
       "      <td>8.5</td>\n",
       "      <td>0.28</td>\n",
       "      <td>0.56</td>\n",
       "      <td>1.8</td>\n",
       "      <td>0.092</td>\n",
       "      <td>35.0</td>\n",
       "      <td>103.0</td>\n",
       "      <td>0.99690</td>\n",
       "      <td>3.30</td>\n",
       "      <td>0.75</td>\n",
       "      <td>10.50</td>\n",
       "      <td>1</td>\n",
       "    </tr>\n",
       "    <tr>\n",
       "      <th>37</th>\n",
       "      <td>8.1</td>\n",
       "      <td>0.38</td>\n",
       "      <td>0.28</td>\n",
       "      <td>2.1</td>\n",
       "      <td>0.066</td>\n",
       "      <td>13.0</td>\n",
       "      <td>30.0</td>\n",
       "      <td>0.99680</td>\n",
       "      <td>3.23</td>\n",
       "      <td>0.73</td>\n",
       "      <td>9.70</td>\n",
       "      <td>1</td>\n",
       "    </tr>\n",
       "    <tr>\n",
       "      <th>62</th>\n",
       "      <td>7.5</td>\n",
       "      <td>0.52</td>\n",
       "      <td>0.16</td>\n",
       "      <td>1.9</td>\n",
       "      <td>0.085</td>\n",
       "      <td>12.0</td>\n",
       "      <td>35.0</td>\n",
       "      <td>0.99680</td>\n",
       "      <td>3.38</td>\n",
       "      <td>0.62</td>\n",
       "      <td>9.50</td>\n",
       "      <td>1</td>\n",
       "    </tr>\n",
       "    <tr>\n",
       "      <th>...</th>\n",
       "      <td>...</td>\n",
       "      <td>...</td>\n",
       "      <td>...</td>\n",
       "      <td>...</td>\n",
       "      <td>...</td>\n",
       "      <td>...</td>\n",
       "      <td>...</td>\n",
       "      <td>...</td>\n",
       "      <td>...</td>\n",
       "      <td>...</td>\n",
       "      <td>...</td>\n",
       "      <td>...</td>\n",
       "    </tr>\n",
       "    <tr>\n",
       "      <th>1541</th>\n",
       "      <td>7.4</td>\n",
       "      <td>0.25</td>\n",
       "      <td>0.29</td>\n",
       "      <td>2.2</td>\n",
       "      <td>0.054</td>\n",
       "      <td>19.0</td>\n",
       "      <td>49.0</td>\n",
       "      <td>0.99666</td>\n",
       "      <td>3.40</td>\n",
       "      <td>0.76</td>\n",
       "      <td>10.90</td>\n",
       "      <td>1</td>\n",
       "    </tr>\n",
       "    <tr>\n",
       "      <th>1544</th>\n",
       "      <td>8.4</td>\n",
       "      <td>0.37</td>\n",
       "      <td>0.43</td>\n",
       "      <td>2.3</td>\n",
       "      <td>0.063</td>\n",
       "      <td>12.0</td>\n",
       "      <td>19.0</td>\n",
       "      <td>0.99550</td>\n",
       "      <td>3.17</td>\n",
       "      <td>0.81</td>\n",
       "      <td>11.20</td>\n",
       "      <td>1</td>\n",
       "    </tr>\n",
       "    <tr>\n",
       "      <th>1549</th>\n",
       "      <td>7.4</td>\n",
       "      <td>0.36</td>\n",
       "      <td>0.30</td>\n",
       "      <td>1.8</td>\n",
       "      <td>0.074</td>\n",
       "      <td>17.0</td>\n",
       "      <td>24.0</td>\n",
       "      <td>0.99419</td>\n",
       "      <td>3.24</td>\n",
       "      <td>0.70</td>\n",
       "      <td>11.40</td>\n",
       "      <td>1</td>\n",
       "    </tr>\n",
       "    <tr>\n",
       "      <th>1555</th>\n",
       "      <td>7.0</td>\n",
       "      <td>0.56</td>\n",
       "      <td>0.17</td>\n",
       "      <td>1.7</td>\n",
       "      <td>0.065</td>\n",
       "      <td>15.0</td>\n",
       "      <td>24.0</td>\n",
       "      <td>0.99514</td>\n",
       "      <td>3.44</td>\n",
       "      <td>0.68</td>\n",
       "      <td>10.55</td>\n",
       "      <td>1</td>\n",
       "    </tr>\n",
       "    <tr>\n",
       "      <th>1584</th>\n",
       "      <td>6.7</td>\n",
       "      <td>0.32</td>\n",
       "      <td>0.44</td>\n",
       "      <td>2.4</td>\n",
       "      <td>0.061</td>\n",
       "      <td>24.0</td>\n",
       "      <td>34.0</td>\n",
       "      <td>0.99484</td>\n",
       "      <td>3.29</td>\n",
       "      <td>0.80</td>\n",
       "      <td>11.60</td>\n",
       "      <td>1</td>\n",
       "    </tr>\n",
       "  </tbody>\n",
       "</table>\n",
       "<p>217 rows × 12 columns</p>\n",
       "</div>"
      ],
      "text/plain": [
       "      fixed acidity  volatile acidity  citric acid  residual sugar  chlorides  \\\n",
       "7               7.3              0.65         0.00             1.2      0.065   \n",
       "8               7.8              0.58         0.02             2.0      0.073   \n",
       "16              8.5              0.28         0.56             1.8      0.092   \n",
       "37              8.1              0.38         0.28             2.1      0.066   \n",
       "62              7.5              0.52         0.16             1.9      0.085   \n",
       "...             ...               ...          ...             ...        ...   \n",
       "1541            7.4              0.25         0.29             2.2      0.054   \n",
       "1544            8.4              0.37         0.43             2.3      0.063   \n",
       "1549            7.4              0.36         0.30             1.8      0.074   \n",
       "1555            7.0              0.56         0.17             1.7      0.065   \n",
       "1584            6.7              0.32         0.44             2.4      0.061   \n",
       "\n",
       "      free sulfur dioxide  total sulfur dioxide  density    pH  sulphates  \\\n",
       "7                    15.0                  21.0  0.99460  3.39       0.47   \n",
       "8                     9.0                  18.0  0.99680  3.36       0.57   \n",
       "16                   35.0                 103.0  0.99690  3.30       0.75   \n",
       "37                   13.0                  30.0  0.99680  3.23       0.73   \n",
       "62                   12.0                  35.0  0.99680  3.38       0.62   \n",
       "...                   ...                   ...      ...   ...        ...   \n",
       "1541                 19.0                  49.0  0.99666  3.40       0.76   \n",
       "1544                 12.0                  19.0  0.99550  3.17       0.81   \n",
       "1549                 17.0                  24.0  0.99419  3.24       0.70   \n",
       "1555                 15.0                  24.0  0.99514  3.44       0.68   \n",
       "1584                 24.0                  34.0  0.99484  3.29       0.80   \n",
       "\n",
       "      alcohol  quality  \n",
       "7       10.00        1  \n",
       "8        9.50        1  \n",
       "16      10.50        1  \n",
       "37       9.70        1  \n",
       "62       9.50        1  \n",
       "...       ...      ...  \n",
       "1541    10.90        1  \n",
       "1544    11.20        1  \n",
       "1549    11.40        1  \n",
       "1555    10.55        1  \n",
       "1584    11.60        1  \n",
       "\n",
       "[217 rows x 12 columns]"
      ]
     },
     "execution_count": 31,
     "metadata": {},
     "output_type": "execute_result"
    }
   ],
   "source": [
    "rows_with_1= data[data.iloc[:,11]==1]\n",
    "rows_with_1"
   ]
  },
  {
   "cell_type": "code",
   "execution_count": 32,
   "metadata": {},
   "outputs": [
    {
     "data": {
      "text/html": [
       "<div>\n",
       "<style scoped>\n",
       "    .dataframe tbody tr th:only-of-type {\n",
       "        vertical-align: middle;\n",
       "    }\n",
       "\n",
       "    .dataframe tbody tr th {\n",
       "        vertical-align: top;\n",
       "    }\n",
       "\n",
       "    .dataframe thead th {\n",
       "        text-align: right;\n",
       "    }\n",
       "</style>\n",
       "<table border=\"1\" class=\"dataframe\">\n",
       "  <thead>\n",
       "    <tr style=\"text-align: right;\">\n",
       "      <th></th>\n",
       "      <th>fixed acidity</th>\n",
       "      <th>volatile acidity</th>\n",
       "      <th>citric acid</th>\n",
       "      <th>residual sugar</th>\n",
       "      <th>chlorides</th>\n",
       "      <th>free sulfur dioxide</th>\n",
       "      <th>total sulfur dioxide</th>\n",
       "      <th>density</th>\n",
       "      <th>pH</th>\n",
       "      <th>sulphates</th>\n",
       "      <th>alcohol</th>\n",
       "      <th>quality</th>\n",
       "    </tr>\n",
       "  </thead>\n",
       "  <tbody>\n",
       "    <tr>\n",
       "      <th>0</th>\n",
       "      <td>7.4</td>\n",
       "      <td>0.700</td>\n",
       "      <td>0.00</td>\n",
       "      <td>1.9</td>\n",
       "      <td>0.076</td>\n",
       "      <td>11.0</td>\n",
       "      <td>34.0</td>\n",
       "      <td>0.99780</td>\n",
       "      <td>3.51</td>\n",
       "      <td>0.56</td>\n",
       "      <td>9.4</td>\n",
       "      <td>0</td>\n",
       "    </tr>\n",
       "    <tr>\n",
       "      <th>1</th>\n",
       "      <td>7.8</td>\n",
       "      <td>0.880</td>\n",
       "      <td>0.00</td>\n",
       "      <td>2.6</td>\n",
       "      <td>0.098</td>\n",
       "      <td>25.0</td>\n",
       "      <td>67.0</td>\n",
       "      <td>0.99680</td>\n",
       "      <td>3.20</td>\n",
       "      <td>0.68</td>\n",
       "      <td>9.8</td>\n",
       "      <td>0</td>\n",
       "    </tr>\n",
       "    <tr>\n",
       "      <th>2</th>\n",
       "      <td>7.8</td>\n",
       "      <td>0.760</td>\n",
       "      <td>0.04</td>\n",
       "      <td>2.3</td>\n",
       "      <td>0.092</td>\n",
       "      <td>15.0</td>\n",
       "      <td>54.0</td>\n",
       "      <td>0.99700</td>\n",
       "      <td>3.26</td>\n",
       "      <td>0.65</td>\n",
       "      <td>9.8</td>\n",
       "      <td>0</td>\n",
       "    </tr>\n",
       "    <tr>\n",
       "      <th>3</th>\n",
       "      <td>11.2</td>\n",
       "      <td>0.280</td>\n",
       "      <td>0.56</td>\n",
       "      <td>1.9</td>\n",
       "      <td>0.075</td>\n",
       "      <td>17.0</td>\n",
       "      <td>60.0</td>\n",
       "      <td>0.99800</td>\n",
       "      <td>3.16</td>\n",
       "      <td>0.58</td>\n",
       "      <td>9.8</td>\n",
       "      <td>0</td>\n",
       "    </tr>\n",
       "    <tr>\n",
       "      <th>4</th>\n",
       "      <td>7.4</td>\n",
       "      <td>0.700</td>\n",
       "      <td>0.00</td>\n",
       "      <td>1.9</td>\n",
       "      <td>0.076</td>\n",
       "      <td>11.0</td>\n",
       "      <td>34.0</td>\n",
       "      <td>0.99780</td>\n",
       "      <td>3.51</td>\n",
       "      <td>0.56</td>\n",
       "      <td>9.4</td>\n",
       "      <td>0</td>\n",
       "    </tr>\n",
       "    <tr>\n",
       "      <th>...</th>\n",
       "      <td>...</td>\n",
       "      <td>...</td>\n",
       "      <td>...</td>\n",
       "      <td>...</td>\n",
       "      <td>...</td>\n",
       "      <td>...</td>\n",
       "      <td>...</td>\n",
       "      <td>...</td>\n",
       "      <td>...</td>\n",
       "      <td>...</td>\n",
       "      <td>...</td>\n",
       "      <td>...</td>\n",
       "    </tr>\n",
       "    <tr>\n",
       "      <th>1594</th>\n",
       "      <td>6.2</td>\n",
       "      <td>0.600</td>\n",
       "      <td>0.08</td>\n",
       "      <td>2.0</td>\n",
       "      <td>0.090</td>\n",
       "      <td>32.0</td>\n",
       "      <td>44.0</td>\n",
       "      <td>0.99490</td>\n",
       "      <td>3.45</td>\n",
       "      <td>0.58</td>\n",
       "      <td>10.5</td>\n",
       "      <td>0</td>\n",
       "    </tr>\n",
       "    <tr>\n",
       "      <th>1595</th>\n",
       "      <td>5.9</td>\n",
       "      <td>0.550</td>\n",
       "      <td>0.10</td>\n",
       "      <td>2.2</td>\n",
       "      <td>0.062</td>\n",
       "      <td>39.0</td>\n",
       "      <td>51.0</td>\n",
       "      <td>0.99512</td>\n",
       "      <td>3.52</td>\n",
       "      <td>0.76</td>\n",
       "      <td>11.2</td>\n",
       "      <td>0</td>\n",
       "    </tr>\n",
       "    <tr>\n",
       "      <th>1596</th>\n",
       "      <td>6.3</td>\n",
       "      <td>0.510</td>\n",
       "      <td>0.13</td>\n",
       "      <td>2.3</td>\n",
       "      <td>0.076</td>\n",
       "      <td>29.0</td>\n",
       "      <td>40.0</td>\n",
       "      <td>0.99574</td>\n",
       "      <td>3.42</td>\n",
       "      <td>0.75</td>\n",
       "      <td>11.0</td>\n",
       "      <td>0</td>\n",
       "    </tr>\n",
       "    <tr>\n",
       "      <th>1597</th>\n",
       "      <td>5.9</td>\n",
       "      <td>0.645</td>\n",
       "      <td>0.12</td>\n",
       "      <td>2.0</td>\n",
       "      <td>0.075</td>\n",
       "      <td>32.0</td>\n",
       "      <td>44.0</td>\n",
       "      <td>0.99547</td>\n",
       "      <td>3.57</td>\n",
       "      <td>0.71</td>\n",
       "      <td>10.2</td>\n",
       "      <td>0</td>\n",
       "    </tr>\n",
       "    <tr>\n",
       "      <th>1598</th>\n",
       "      <td>6.0</td>\n",
       "      <td>0.310</td>\n",
       "      <td>0.47</td>\n",
       "      <td>3.6</td>\n",
       "      <td>0.067</td>\n",
       "      <td>18.0</td>\n",
       "      <td>42.0</td>\n",
       "      <td>0.99549</td>\n",
       "      <td>3.39</td>\n",
       "      <td>0.66</td>\n",
       "      <td>11.0</td>\n",
       "      <td>0</td>\n",
       "    </tr>\n",
       "  </tbody>\n",
       "</table>\n",
       "<p>1382 rows × 12 columns</p>\n",
       "</div>"
      ],
      "text/plain": [
       "      fixed acidity  volatile acidity  citric acid  residual sugar  chlorides  \\\n",
       "0               7.4             0.700         0.00             1.9      0.076   \n",
       "1               7.8             0.880         0.00             2.6      0.098   \n",
       "2               7.8             0.760         0.04             2.3      0.092   \n",
       "3              11.2             0.280         0.56             1.9      0.075   \n",
       "4               7.4             0.700         0.00             1.9      0.076   \n",
       "...             ...               ...          ...             ...        ...   \n",
       "1594            6.2             0.600         0.08             2.0      0.090   \n",
       "1595            5.9             0.550         0.10             2.2      0.062   \n",
       "1596            6.3             0.510         0.13             2.3      0.076   \n",
       "1597            5.9             0.645         0.12             2.0      0.075   \n",
       "1598            6.0             0.310         0.47             3.6      0.067   \n",
       "\n",
       "      free sulfur dioxide  total sulfur dioxide  density    pH  sulphates  \\\n",
       "0                    11.0                  34.0  0.99780  3.51       0.56   \n",
       "1                    25.0                  67.0  0.99680  3.20       0.68   \n",
       "2                    15.0                  54.0  0.99700  3.26       0.65   \n",
       "3                    17.0                  60.0  0.99800  3.16       0.58   \n",
       "4                    11.0                  34.0  0.99780  3.51       0.56   \n",
       "...                   ...                   ...      ...   ...        ...   \n",
       "1594                 32.0                  44.0  0.99490  3.45       0.58   \n",
       "1595                 39.0                  51.0  0.99512  3.52       0.76   \n",
       "1596                 29.0                  40.0  0.99574  3.42       0.75   \n",
       "1597                 32.0                  44.0  0.99547  3.57       0.71   \n",
       "1598                 18.0                  42.0  0.99549  3.39       0.66   \n",
       "\n",
       "      alcohol  quality  \n",
       "0         9.4        0  \n",
       "1         9.8        0  \n",
       "2         9.8        0  \n",
       "3         9.8        0  \n",
       "4         9.4        0  \n",
       "...       ...      ...  \n",
       "1594     10.5        0  \n",
       "1595     11.2        0  \n",
       "1596     11.0        0  \n",
       "1597     10.2        0  \n",
       "1598     11.0        0  \n",
       "\n",
       "[1382 rows x 12 columns]"
      ]
     },
     "execution_count": 32,
     "metadata": {},
     "output_type": "execute_result"
    }
   ],
   "source": [
    "rows_with_0= data[data.iloc[:,11]==0]\n",
    "rows_with_0"
   ]
  },
  {
   "cell_type": "code",
   "execution_count": null,
   "metadata": {},
   "outputs": [],
   "source": []
  }
 ],
 "metadata": {
  "kernelspec": {
   "display_name": "venv",
   "language": "python",
   "name": "python3"
  },
  "language_info": {
   "codemirror_mode": {
    "name": "ipython",
    "version": 3
   },
   "file_extension": ".py",
   "mimetype": "text/x-python",
   "name": "python",
   "nbconvert_exporter": "python",
   "pygments_lexer": "ipython3",
   "version": "3.11.2"
  },
  "orig_nbformat": 4,
  "vscode": {
   "interpreter": {
    "hash": "7834167f541677feaf57fc261b0c971e1901b948633d25e32cb6f739ebf52a87"
   }
  }
 },
 "nbformat": 4,
 "nbformat_minor": 2
}
